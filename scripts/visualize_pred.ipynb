{
 "cells": [
  {
   "cell_type": "code",
   "execution_count": 4,
   "metadata": {},
   "outputs": [],
   "source": [
    "import os\n",
    "import cv2\n",
    "\n",
    "import torch\n",
    "import numpy as np\n",
    "\n",
    "from skimage import draw\n",
    "from pathlib import Path\n",
    "\n",
    "import pytorch_lightning as pl\n",
    "import matplotlib.pyplot as plt\n",
    "from omegaconf import OmegaConf, DictConfig\n",
    "from collections.abc import Callable\n",
    "from typing import Tuple, Dict, Optional\n",
    "\n",
    "\n",
    "\n",
    "from hydra import initialize, initialize_config_module, initialize_config_dir, compose\n",
    "from utils import setup_data_module, setup_model_module, remove_prefix"
   ]
  },
  {
   "cell_type": "code",
   "execution_count": 5,
   "metadata": {},
   "outputs": [],
   "source": [
    "def setup(cfg):\n",
    "\n",
    "    cfg.loader.batch_size = 1\n",
    "\n",
    "    if 'split' not in cfg:\n",
    "        cfg.split = 'val'\n",
    "\n",
    "    if 'shuffle' not in cfg:\n",
    "        cfg.shuffle = False\n",
    "\n",
    "\n",
    "def setup_config(cfg: DictConfig, override: Optional[Callable] = None):\n",
    "    OmegaConf.set_struct(cfg, False)\n",
    "\n",
    "    if override is not None:\n",
    "        override(cfg)\n",
    "    OmegaConf.resolve(cfg)\n",
    "    OmegaConf.set_struct(cfg, True)\n",
    "\n",
    "\n",
    "def resume_training(uuid):\n",
    "    save_dir = Path('/usr/src/CV_For_Autonomous_Driving/logs/')\n",
    "    checkpoints = list(save_dir.glob(f'**/{uuid}/checkpoints/*.ckpt'))\n",
    "\n",
    "    print(f'Searching {save_dir}.')\n",
    "\n",
    "    if not checkpoints:\n",
    "        return None\n",
    "\n",
    "    print(f'Found {checkpoints[-1]}.')\n",
    "\n",
    "    return checkpoints[-1]"
   ]
  },
  {
   "cell_type": "code",
   "execution_count": 6,
   "metadata": {},
   "outputs": [
    {
     "name": "stderr",
     "output_type": "stream",
     "text": [
      "/opt/conda/lib/python3.7/site-packages/ipykernel_launcher.py:4: UserWarning: \n",
      "The version_base parameter is not specified.\n",
      "Please specify a compatability version level, or None.\n",
      "Will assume defaults for version 1.1\n",
      "  after removing the cwd from sys.path.\n",
      "Global seed set to 2022\n"
     ]
    },
    {
     "name": "stdout",
     "output_type": "stream",
     "text": [
      "======\n",
      "Loading NuScenes tables for version v1.0-trainval...\n",
      "23 category,\n",
      "8 attribute,\n",
      "4 visibility,\n",
      "64386 instance,\n",
      "12 sensor,\n",
      "10200 calibrated_sensor,\n",
      "2631083 ego_pose,\n",
      "68 log,\n",
      "850 scene,\n",
      "34149 sample,\n",
      "2631083 sample_data,\n",
      "1166187 sample_annotation,\n",
      "4 map,\n",
      "Done loading in 41.095 seconds.\n",
      "======\n",
      "Reverse indexing ...\n",
      "Done reverse indexing in 13.3 seconds.\n",
      "======\n",
      "val: 6019 total samples\n",
      "Loaded pretrained weights for efficientnet-b4\n",
      "Searching /usr/src/CV_For_Autonomous_Driving/logs.\n",
      "Found /usr/src/CV_For_Autonomous_Driving/logs/CV_For_Autonomous_Driving/0103_070026/checkpoints/model-v1.ckpt.\n",
      "/usr/src/CV_For_Autonomous_Driving/logs/CV_For_Autonomous_Driving/0103_070026/checkpoints/model-v1.ckpt\n"
     ]
    },
    {
     "name": "stderr",
     "output_type": "stream",
     "text": [
      "/opt/conda/lib/python3.7/site-packages/torchmetrics/utilities/prints.py:36: UserWarning: Torchmetrics v0.9 introduced a new argument class property called `full_state_update` that has\n",
      "                not been set for this class (IoUMetric). The property determines if `update` by\n",
      "                default needs access to the full metric state. If this is not the case, significant speedups can be\n",
      "                achieved and we recommend setting this to `False`.\n",
      "                We provide an checking function\n",
      "                `from torchmetrics.utilities import check_forward_full_state_property`\n",
      "                that can be used to check if the `full_state_update=True` (old and potential slower behaviour,\n",
      "                default for now) or if `full_state_update=False` can be used safely.\n",
      "                \n",
      "  warnings.warn(*args, **kwargs)\n"
     ]
    },
    {
     "name": "stdout",
     "output_type": "stream",
     "text": [
      "finish load trained 0104_011245 network \n"
     ]
    }
   ],
   "source": [
    "\n",
    "# *  config setup  * #\n",
    "CONFIG_PATH = '/usr/src/CV_For_Autonomous_Driving/config'\n",
    "\n",
    "with initialize_config_dir(config_dir=CONFIG_PATH):\n",
    "    cfg = compose(config_name='default_config.yaml',)\n",
    "    \n",
    "setup_config(cfg, setup)\n",
    "pl.seed_everything(cfg.experiment.seed, workers=True)\n",
    "\n",
    "\n",
    "data = setup_data_module(cfg)\n",
    "loader = data.get_split(cfg.split, shuffle=cfg.shuffle)\n",
    "\n",
    "print(f'{cfg.split}: {len(loader)} total samples')\n",
    "\n",
    "\n",
    "# *  load trained network  * #\n",
    "model_module = setup_model_module(cfg)\n",
    "\n",
    "uuid = '0103_070026'\n",
    "ckpt_path = resume_training(uuid)\n",
    "print(ckpt_path)\n",
    "ckpt = torch.load(ckpt_path)\n",
    "state_dict = remove_prefix(ckpt['state_dict'], 'fullmodel')\n",
    "\n",
    "model_module.fullmodel.load_state_dict(state_dict)\n",
    "model_module.to('cuda')\n",
    "\n",
    "print(f'finish load trained {cfg.experiment.uuid} network ')\n"
   ]
  },
  {
   "cell_type": "code",
   "execution_count": 7,
   "metadata": {},
   "outputs": [],
   "source": [
    "batch = next(iter(loader))\n",
    "for k, v in batch.items():\n",
    "    batch[k] = v.to('cuda')\n",
    "\n",
    "out = model_module.vis_step(batch, 0)"
   ]
  },
  {
   "cell_type": "code",
   "execution_count": 12,
   "metadata": {},
   "outputs": [],
   "source": [
    "pred = out['pred']['bev']       # 1, 4, 256, 256\n",
    "\n",
    "_, c, h, w = pred.shape\n",
    "bool = pred.sigmoid() > 0.5\n",
    "bool = bool.squeeze(0).cpu().numpy()\n",
    "\n",
    "vis = []\n",
    "for i in range(c-1):\n",
    "    bev = np.full((h, w), 0, dtype='uint8')\n",
    "    bev[bool[i]] = 1\n",
    "    vis.append(bev)\n",
    "\n",
    "total = np.hstack(vis)\n",
    "total = cv2.resize(total, (768*2, 512))"
   ]
  },
  {
   "cell_type": "code",
   "execution_count": 13,
   "metadata": {},
   "outputs": [
    {
     "data": {
      "text/plain": [
       "(512, 1536)"
      ]
     },
     "execution_count": 13,
     "metadata": {},
     "output_type": "execute_result"
    }
   ],
   "source": [
    "total.shape"
   ]
  },
  {
   "cell_type": "code",
   "execution_count": 16,
   "metadata": {},
   "outputs": [],
   "source": [
    "plt.imsave('output.png', total)"
   ]
  },
  {
   "cell_type": "code",
   "execution_count": 14,
   "metadata": {},
   "outputs": [
    {
     "data": {
      "text/plain": [
       "(-0.5, 1535.5, 511.5, -0.5)"
      ]
     },
     "execution_count": 14,
     "metadata": {},
     "output_type": "execute_result"
    },
    {
     "data": {
      "image/png": "[encoded data removed]",
      "text/plain": [
       "<Figure size 432x288 with 1 Axes>"
      ]
     },
     "metadata": {
      "needs_background": "light"
     },
     "output_type": "display_data"
    }
   ],
   "source": [
    "plt.imshow(total)\n",
    "plt.axis('off')"
   ]
  },
  {
   "cell_type": "code",
   "execution_count": null,
   "metadata": {},
   "outputs": [],
   "source": []
  }
 ],
 "metadata": {
  "kernelspec": {
   "display_name": "Python 3 (ipykernel)",
   "language": "python",
   "name": "python3"
  },
  "orig_nbformat": 4
 },
 "nbformat": 4,
 "nbformat_minor": 2
}
