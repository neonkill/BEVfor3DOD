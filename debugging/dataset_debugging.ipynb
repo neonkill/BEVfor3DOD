{
 "cells": [
  {
   "cell_type": "code",
   "execution_count": 21,
   "metadata": {},
   "outputs": [],
   "source": [
    "import numpy as np\n",
    "import cv2\n",
    "import matplotlib.pyplot as plt\n",
    "\n",
    "\n",
    "import hydra\n",
    "from typing import Optional\n",
    "from collections.abc import Callable\n",
    "from omegaconf import OmegaConf, DictConfig\n",
    "\n",
    "from data_module.lightning_data_module import DataModule\n",
    "from hydra import initialize, initialize_config_module, initialize_config_dir, compose"
   ]
  },
  {
   "cell_type": "code",
   "execution_count": 30,
   "metadata": {},
   "outputs": [],
   "source": [
    "mapping = {0: (255, 153, 51),\n",
    "            1: (0, 128, 255),\n",
    "            2: (0, 0, 255)}\n",
    "            \n",
    "def vis_gt(bev):\n",
    "    # bev = np.transpose(bev, (1, 2, 0))\n",
    "    area = bev[:,:,0] + bev[:,:,1]\n",
    "    divider = bev[:,:,2] + bev[:,:,3]\n",
    "    vehicle = bev[:,:,4] + bev[:,:,5] + bev[:,:,6] + bev[:,:,7]\n",
    "\n",
    "    h, w = area.shape\n",
    "    vis = np.full((h, w, 3), 255, dtype='uint8')\n",
    "\n",
    "    \n",
    "    for i, bibev in enumerate([area, divider, vehicle]):\n",
    "    # for i, bibev in enumerate([area, vehicle]):\n",
    "        vis[bibev!=0,:] = mapping[i]\n",
    "    \n",
    "    vis[95:105, 98:102, :] = (255, 0, 0)\n",
    "\n",
    "    # plt.imshow(vis)\n",
    "    # plt.axis('off')\n",
    "    # plt.savefig('/home/miruware/ws/bevtransformer/scripts/gts.png')\n",
    "\n",
    "    return vis\n",
    "    \n",
    "def setup(cfg):\n",
    "\n",
    "    cfg.loader.batch_size = 1\n",
    "\n",
    "    if 'split' not in cfg:\n",
    "        cfg.split = 'val'\n",
    "\n",
    "    if 'shuffle' not in cfg:\n",
    "        cfg.shuffle = False\n",
    "        \n",
    "def setup_config(cfg: DictConfig, override: Optional[Callable] = None):\n",
    "\n",
    "    OmegaConf.set_struct(cfg, False)\n",
    "    OmegaConf.resolve(cfg)\n",
    "    OmegaConf.set_struct(cfg, True)\n",
    "\n",
    "\n",
    "def merge_rgbs(imgs):\n",
    "\n",
    "    fl = np.transpose(imgs[0], (1,2,0))\n",
    "    ff = np.transpose(imgs[1], (1,2,0))\n",
    "    fr = np.transpose(imgs[2], (1,2,0))\n",
    "\n",
    "    front = np.hstack([fl, ff, fr])\n",
    "\n",
    "    bl = np.transpose(imgs[5], (1,2,0))\n",
    "    bf = np.transpose(imgs[4], (1,2,0))\n",
    "    br = np.transpose(imgs[3], (1,2,0))\n",
    "\n",
    "    back = np.hstack([bl, bf, br])\n",
    "\n",
    "    whole = np.vstack([front, back])\n",
    "\n",
    "    return whole"
   ]
  },
  {
   "cell_type": "code",
   "execution_count": 23,
   "metadata": {},
   "outputs": [
    {
     "name": "stderr",
     "output_type": "stream",
     "text": [
      "/opt/conda/lib/python3.7/site-packages/ipykernel_launcher.py:4: UserWarning: \n",
      "The version_base parameter is not specified.\n",
      "Please specify a compatability version level, or None.\n",
      "Will assume defaults for version 1.1\n",
      "  after removing the cwd from sys.path.\n",
      "/opt/conda/lib/python3.7/site-packages/hydra/_internal/defaults_list.py:251: UserWarning: In 'default_config.yaml': Defaults list is missing `_self_`. See https://hydra.cc/docs/1.2/upgrades/1.0_to_1.1/default_composition_order for more information\n",
      "  warnings.warn(msg, UserWarning)\n"
     ]
    },
    {
     "name": "stdout",
     "output_type": "stream",
     "text": [
      "======\n",
      "Loading NuScenes tables for version v1.0-trainval...\n",
      "23 category,\n",
      "8 attribute,\n",
      "4 visibility,\n",
      "64386 instance,\n",
      "12 sensor,\n",
      "10200 calibrated_sensor,\n",
      "2631083 ego_pose,\n",
      "68 log,\n",
      "850 scene,\n",
      "34149 sample,\n",
      "2631083 sample_data,\n",
      "1166187 sample_annotation,\n",
      "4 map,\n",
      "Done loading in 42.487 seconds.\n",
      "======\n",
      "Reverse indexing ...\n",
      "Done reverse indexing in 11.0 seconds.\n",
      "======\n",
      "In train dataset, 700 scenes are included.\n",
      "nuscenes train has 28130 data samples\n"
     ]
    }
   ],
   "source": [
    "\n",
    "# *  config setup  * #\n",
    "CONFIG_PATH = '/usr/src/CV_For_Autonomous_Driving/config'\n",
    "\n",
    "with initialize_config_dir(config_dir=CONFIG_PATH):\n",
    "    cfg = compose(config_name='default_config.yaml')\n",
    "    \n",
    "setup_config(cfg, setup)\n",
    "\n",
    "\n",
    "# dataset list 만드는 test\n",
    "DM = DataModule(cfg.data, cfg.loader)\n",
    "\n",
    "split = 'train'\n",
    "data_cfg = DM.data_cfg\n",
    "datasets = DM.get_datasets(split=split,\n",
    "                            **data_cfg)\n",
    "\n",
    "print(f'In {split} dataset, {len(datasets)} scenes are included.')\n",
    "\n",
    "\n",
    "# dataset init test\n",
    "total = 0\n",
    "for dataset in datasets:\n",
    "    total += len(dataset)\n",
    "\n",
    "print(f'nuscenes train has {total} data samples')\n"
   ]
  },
  {
   "cell_type": "code",
   "execution_count": 25,
   "metadata": {},
   "outputs": [
    {
     "name": "stdout",
     "output_type": "stream",
     "text": [
      "bev [  0 255]\n",
      "center [0.00000000e+00 3.03877680e-28 3.39951841e-28 6.27714765e-27\n",
      " 6.63927679e-27 1.75483064e-26 1.26139524e-25 1.41113904e-25\n",
      " 3.37407198e-25 2.60564169e-24 2.75596189e-24 7.03426717e-24\n",
      " 7.28429663e-24 8.30751502e-23 5.46216732e-22 6.11059685e-22\n",
      " 6.29284265e-22 2.76820940e-21 6.91832942e-21 7.61878904e-21\n",
      " 1.12831030e-20 1.19340271e-20 1.24835400e-20 3.15428848e-20\n",
      " 8.17059218e-20 9.33043317e-20 1.01491675e-19 1.13540052e-19\n",
      " 1.80631262e-19 6.18912561e-19 1.08893034e-18 1.94520889e-18\n",
      " 2.09649567e-18 2.21744271e-18 2.72258413e-18 5.86093446e-18\n",
      " 7.30934261e-18 7.49321824e-18 9.15053333e-18 1.22777889e-17\n",
      " 2.29730473e-17 5.82089776e-17 6.27354026e-17 6.40770366e-17\n",
      " 8.02177656e-17 1.32874707e-16 1.48648644e-16 1.74018062e-16\n",
      " 5.10286582e-16 5.49967217e-16 6.62704231e-16 7.65502109e-16\n",
      " 2.10684919e-15 2.74476897e-15 2.90311543e-15 3.45211475e-15\n",
      " 3.49188761e-15 7.67323843e-15 7.82660984e-15 1.10515294e-14\n",
      " 1.23634394e-14 1.29598404e-14 5.44090529e-14 5.92855165e-14\n",
      " 7.27988836e-14 2.28288634e-13 2.41459088e-13 2.60795346e-13\n",
      " 5.24427019e-13 5.97203331e-13 6.38202978e-13 6.56530331e-13\n",
      " 7.17775286e-13 8.59759583e-13 1.17608484e-12 3.20163492e-12\n",
      " 4.00812803e-12 4.17635588e-12 4.37453025e-12 4.50111649e-12\n",
      " 4.89384358e-12 6.51257564e-12 8.59114169e-12 1.76860748e-11\n",
      " 2.54967176e-11 2.74793868e-11 2.86486390e-11 7.88483723e-11\n",
      " 9.03637165e-11 9.55770185e-11 1.01462144e-10 1.05207738e-10\n",
      " 1.25839866e-10 1.29194155e-10 1.62863167e-10 1.82197119e-10\n",
      " 2.52620563e-10 3.67919167e-10 3.68717917e-10 7.68563491e-10\n",
      " 1.23128296e-09 2.50832666e-09 3.36422912e-09 3.38088957e-09\n",
      " 3.53419227e-09 3.55831897e-09 4.35459091e-09 5.09217868e-09\n",
      " 6.37490105e-09 8.09341216e-09 9.30507138e-09 9.40502787e-09\n",
      " 1.21230528e-08 1.50727715e-08 1.52464885e-08 1.94908143e-08\n",
      " 2.16497575e-08 2.18046239e-08 2.71033436e-08 3.29855041e-08\n",
      " 4.05523579e-08 4.37057786e-08 1.45102462e-07 1.65366941e-07\n",
      " 1.72411077e-07 1.78010595e-07 1.85818209e-07 2.16911417e-07\n",
      " 2.52740932e-07 3.24814067e-07 3.36701220e-07 3.63373658e-07\n",
      " 3.99358186e-07 4.02618241e-07 4.25846224e-07 6.54354608e-07\n",
      " 1.12461623e-06 1.12555733e-06 1.34841014e-06 2.98488999e-06\n",
      " 3.57887006e-06 5.17153330e-06 5.93161849e-06 6.69165729e-06\n",
      " 6.70962027e-06 7.09671303e-06 7.28660689e-06 8.37728112e-06\n",
      " 1.17527952e-05 1.31479910e-05 1.41190994e-05 1.63252953e-05\n",
      " 1.66865593e-05 1.87573769e-05 1.98127946e-05 2.26102020e-05\n",
      " 2.34459585e-05 2.48036213e-05 2.67492505e-05 2.94096462e-05\n",
      " 4.17012270e-05 4.22667290e-05 5.32900085e-05 5.74339792e-05\n",
      " 6.05240893e-05 8.76715349e-05 9.80791810e-05 9.94616566e-05\n",
      " 1.15003160e-04 1.20154582e-04 1.28269967e-04 1.57782153e-04\n",
      " 1.70051702e-04 1.85458222e-04 2.42774942e-04 2.56781175e-04\n",
      " 2.73743353e-04 2.76898296e-04 2.94354482e-04 3.20165389e-04\n",
      " 4.48532723e-04 5.00132039e-04 6.78700570e-04 6.98978140e-04\n",
      " 7.07851024e-04 9.59096185e-04 1.07295334e-03 1.19007728e-03\n",
      " 1.35819556e-03 1.40840001e-03 1.44299469e-03 1.48985698e-03\n",
      " 1.81101286e-03 1.91549410e-03 2.03315634e-03 2.09747371e-03\n",
      " 2.28552055e-03 2.30571185e-03 2.45385943e-03 3.07198474e-03\n",
      " 3.20252590e-03 3.47634871e-03 3.58270714e-03 3.87626886e-03\n",
      " 4.53729928e-03 4.65599215e-03 5.06285671e-03 5.90659771e-03\n",
      " 6.35132706e-03 9.22673289e-03 9.47735738e-03 1.02143427e-02\n",
      " 1.02881733e-02 1.05924113e-02 1.16802743e-02 1.18498616e-02\n",
      " 1.58320926e-02 1.60377789e-02 1.77115574e-02 1.95416734e-02\n",
      " 1.98118612e-02 2.09548529e-02 2.10612882e-02 2.31881067e-02\n",
      " 2.53942776e-02 2.63329372e-02 2.86435671e-02 3.58588621e-02\n",
      " 4.11305428e-02 4.16089110e-02 4.47417870e-02 4.52574044e-02\n",
      " 5.14912978e-02 5.44906259e-02 5.53859212e-02 6.61539510e-02\n",
      " 6.99705184e-02 7.67764077e-02 9.33018476e-02 1.15837917e-01\n",
      " 1.16804525e-01 1.24559768e-01 1.75820395e-01 1.84939623e-01\n",
      " 1.92605421e-01 1.96817949e-01 2.04093039e-01 2.18805298e-01\n",
      " 2.28107348e-01 2.31428683e-01 2.45845586e-01 2.71377951e-01\n",
      " 2.78477132e-01 3.18815023e-01 3.27040285e-01 3.27549309e-01\n",
      " 3.45908016e-01 3.53020370e-01 3.92369837e-01 5.22383273e-01\n",
      " 5.41692376e-01 6.11690760e-01 6.21464133e-01 7.43023336e-01\n",
      " 8.00802767e-01 8.87571216e-01 8.98539364e-01 9.14272010e-01]\n",
      "visibility [  4 255]\n",
      "cam_idx: torch.Size([6])\n",
      "image: torch.Size([6, 3, 224, 480])\n",
      "intrinsics: torch.Size([6, 3, 3])\n",
      "extrinsics: torch.Size([6, 4, 4])\n",
      "bev: torch.Size([200, 200, 12])\n",
      "view: torch.Size([3, 3])\n",
      "center: torch.Size([200, 200, 1])\n",
      "visibility: torch.Size([200, 200])\n"
     ]
    }
   ],
   "source": [
    "# dataset __getitem__ test\n",
    "data = datasets[0].__getitem__(10)\n",
    "for k, v in data.items():\n",
    "    print(f'{k}: {v.shape}')"
   ]
  },
  {
   "attachments": {},
   "cell_type": "markdown",
   "metadata": {},
   "source": [
    "### Visualization"
   ]
  },
  {
   "cell_type": "code",
   "execution_count": 26,
   "metadata": {},
   "outputs": [],
   "source": [
    "# imgs = data['image'].squeeze(0).numpy()   # 6 3 224 480\n",
    "# gts = data['bev'].squeeze(0).numpy()      # 12 200 200\n",
    "imgs = data['image'].numpy()   # 6 3 224 480\n",
    "gts = data['bev'].numpy()      # 12 200 200\n",
    "\n",
    "stacked_imgs = merge_rgbs(imgs)\n",
    "\n",
    "gt_maps = vis_gt(gts)                           # 200 200 3\n",
    "gt_maps = cv2.resize(gt_maps, (448, 448))       # 448 448 3\n",
    "\n",
    "print('stacked rgb images shape: ', stacked_imgs.shape)\n",
    "print('ground truth shape: ', gt_maps.shape)"
   ]
  },
  {
   "cell_type": "code",
   "execution_count": 32,
   "metadata": {},
   "outputs": [
    {
     "data": {
      "text/plain": [
       "(-0.5, 1887.5, 447.5, -0.5)"
      ]
     },
     "execution_count": 32,
     "metadata": {},
     "output_type": "execute_result"
    },
    {
     "data": {
      "image/png": "[encoded data removed]",
      "text/plain": [
       "<Figure size 432x288 with 1 Axes>"
      ]
     },
     "metadata": {
      "needs_background": "light"
     },
     "output_type": "display_data"
    }
   ],
   "source": [
    "\n",
    "whole = np.hstack([stacked_imgs, gt_maps/255.0])      # 448 1888 3\n",
    "\n",
    "plt.imshow(whole)\n",
    "plt.axis('off')\n"
   ]
  },
  {
   "cell_type": "code",
   "execution_count": null,
   "metadata": {},
   "outputs": [],
   "source": []
  }
 ],
 "metadata": {
  "kernelspec": {
   "display_name": "Python 3 (ipykernel)",
   "language": "python",
   "name": "python3"
  },
  "language_info": {
   "codemirror_mode": {
    "name": "ipython",
    "version": 3
   },
   "file_extension": ".py",
   "mimetype": "text/x-python",
   "name": "python",
   "nbconvert_exporter": "python",
   "pygments_lexer": "ipython3",
   "version": "3.7.10"
  },
  "orig_nbformat": 4,
  "vscode": {
   "interpreter": {
    "hash": "121f8c44e5968bbcd51100cc03ceec35b3b1222dae64e7f895d4cb48ef859830"
   }
  }
 },
 "nbformat": 4,
 "nbformat_minor": 2
}
