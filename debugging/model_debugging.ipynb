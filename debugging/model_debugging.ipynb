{
 "cells": [
  {
   "cell_type": "code",
   "execution_count": 4,
   "metadata": {},
   "outputs": [],
   "source": [
    "import torch\n",
    "import numpy as np\n",
    "import torch.nn as nn\n",
    "import torch.nn.functional as F\n",
    "\n",
    "from model_module.model.backbones.efficientnet import EfficientNetExtractor\n",
    "from model_module.model.backbones.SPA4toGAP import SPA4toGAP"
   ]
  },
  {
   "attachments": {},
   "cell_type": "markdown",
   "metadata": {},
   "source": [
    "### efficientnet"
   ]
  },
  {
   "cell_type": "code",
   "execution_count": 5,
   "metadata": {},
   "outputs": [
    {
     "name": "stdout",
     "output_type": "stream",
     "text": [
      "Loaded pretrained weights for efficientnet-b4\n",
      "ModuleList(\n",
      "  (0): Conv2d(32, 64, kernel_size=(1, 1), stride=(1, 1))\n",
      "  (1): Conv2d(56, 64, kernel_size=(1, 1), stride=(1, 1))\n",
      "  (2): Conv2d(160, 64, kernel_size=(1, 1), stride=(1, 1))\n",
      "  (3): Conv2d(448, 64, kernel_size=(1, 1), stride=(1, 1))\n",
      "  (4): Conv2d(448, 64, kernel_size=(1, 1), stride=(1, 1))\n",
      "  (5): Conv2d(448, 64, kernel_size=(1, 1), stride=(1, 1))\n",
      ")\n"
     ]
    }
   ],
   "source": [
    "layers = ['reduction_2', 'reduction_3', 'reduction_4', 'reduction_5']\n",
    "extra_layers = ['reduction_6', 'GAP']\n",
    "chs = [32, 56, 160, 448, 448, 448]\n",
    "\n",
    "effnet = EfficientNetExtractor(layers=layers, \n",
    "                                extra_layers = extra_layers,\n",
    "                                chs = chs,\n",
    "                                reduce_dim=64,\n",
    "                                image_height=900, image_width=1600)\n",
    "\n",
    "backbone = SPA4toGAP(effnet, 64, chs)"
   ]
  },
  {
   "cell_type": "code",
   "execution_count": 6,
   "metadata": {},
   "outputs": [],
   "source": [
    "inputs = torch.randn((2,3,900,1600))\n",
    "output = backbone(inputs)\n",
    "output.shape    # 1/4 aggregated feature ([2, 64, 225, 400])"
   ]
  },
  {
   "cell_type": "code",
   "execution_count": 7,
   "metadata": {},
   "outputs": [
    {
     "data": {
      "text/plain": [
       "torch.Size([2, 64, 225, 400])"
      ]
     },
     "execution_count": 7,
     "metadata": {},
     "output_type": "execute_result"
    }
   ],
   "source": []
  }
 ],
 "metadata": {
  "kernelspec": {
   "display_name": "Python 3 (ipykernel)",
   "language": "python",
   "name": "python3"
  },
  "language_info": {
   "codemirror_mode": {
    "name": "ipython",
    "version": 3
   },
   "file_extension": ".py",
   "mimetype": "text/x-python",
   "name": "python",
   "nbconvert_exporter": "python",
   "pygments_lexer": "ipython3",
   "version": "3.7.10"
  },
  "orig_nbformat": 4
 },
 "nbformat": 4,
 "nbformat_minor": 2
}
