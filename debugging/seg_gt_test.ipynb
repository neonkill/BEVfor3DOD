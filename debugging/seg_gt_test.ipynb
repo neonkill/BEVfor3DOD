{
 "cells": [
  {
   "cell_type": "markdown",
   "metadata": {},
   "source": [
    "transforms_sggt.py -> segmentation load 되는 transform 파일"
   ]
  },
  {
   "cell_type": "code",
   "execution_count": null,
   "metadata": {},
   "outputs": [],
   "source": [
    "Class = {0 : 'road', 1 : 'sidewalk', 2 : 'building', 3 : 'wall', 4 : 'fence', \n",
    "         5 : 'pole', 6 : 'traffic_light', 7 : 'traffic_sign', 8 : 'vegetation',\n",
    "         9 : 'terrain', 10 : 'sky', 11 : 'person', 12 : 'rider', 13 : 'car',\n",
    "         14 : 'truck', 15 : 'bus', 16 : 'train', 17 : 'motorcycle', 18 : 'bicycle'}"
   ]
  },
  {
   "cell_type": "code",
   "execution_count": null,
   "metadata": {},
   "outputs": [],
   "source": [
    "def squeeze_class(label_mask, ignore_class = 30):\n",
    "    '''\n",
    "    label_mask = label_gt (numpy) [H, W]\n",
    "    '''\n",
    "    class_match = {0 : 0, 1 : ignore_class, 2 : ignore_class, 3 : ignore_class, 4 : ignore_class, 5 : ignore_class, 6: ignore_class,\n",
    "                7: ignore_class, 8 : ignore_class, 9: ignore_class, 10 : ignore_class, 11 : ignore_class, 12 : 1, 13: 1,\n",
    "                14: 1, 15: 1, 16: 1, 17: 1, 18 : 1}\n",
    "    #road : 0 , vehicle : 1 other : 5\n",
    "    \n",
    "    temp = label_mask.copy()\n",
    "    for k, v in class_match.items():\n",
    "        label_mask[temp == k] = v\n",
    "    return label_mask"
   ]
  },
  {
   "cell_type": "code",
   "execution_count": null,
   "metadata": {},
   "outputs": [],
   "source": []
  }
 ],
 "metadata": {
  "kernelspec": {
   "display_name": "Python 3.8.12 ('base')",
   "language": "python",
   "name": "python3"
  },
  "language_info": {
   "name": "python",
   "version": "3.8.12"
  },
  "orig_nbformat": 4,
  "vscode": {
   "interpreter": {
    "hash": "d4d1e4263499bec80672ea0156c357c1ee493ec2b1c70f0acce89fc37c4a6abe"
   }
  }
 },
 "nbformat": 4,
 "nbformat_minor": 2
}
