{
 "cells": [
  {
   "cell_type": "code",
   "execution_count": 1,
   "metadata": {},
   "outputs": [],
   "source": [
    "HYDRA_FULL_ERROR=1\n",
    "import hydra\n",
    "from typing import Optional\n",
    "from collections.abc import Callable\n",
    "from omegaconf import OmegaConf, DictConfig\n",
    "\n",
    "from hydra import initialize, initialize_config_module, initialize_config_dir, compose\n",
    "\n",
    "from hydra.utils import instantiate\n",
    "from torchmetrics import MetricCollection\n",
    "\n",
    "        \n",
    "def setup_config(cfg: DictConfig):\n",
    "    '''\n",
    "    # TODO default_config.yaml에서 save_dir: ${hydra:runtime.cwd}/logs/ resolve 할 때 error 생김\n",
    "    # TODO resolve 하기 전에 save_dir key remove 해주는 코드 추가로 필요함\n",
    "    '''\n",
    "    OmegaConf.set_struct(cfg, False)\n",
    "    OmegaConf.resolve(cfg)\n",
    "    OmegaConf.set_struct(cfg, True)"
   ]
  },
  {
   "cell_type": "code",
   "execution_count": 2,
   "metadata": {},
   "outputs": [
    {
     "name": "stderr",
     "output_type": "stream",
     "text": [
      "/opt/conda/lib/python3.7/site-packages/ipykernel_launcher.py:4: UserWarning: \n",
      "The version_base parameter is not specified.\n",
      "Please specify a compatability version level, or None.\n",
      "Will assume defaults for version 1.1\n",
      "  after removing the cwd from sys.path.\n",
      "/opt/conda/lib/python3.7/site-packages/hydra/_internal/defaults_list.py:251: UserWarning: In 'default_config.yaml': Defaults list is missing `_self_`. See https://hydra.cc/docs/1.2/upgrades/1.0_to_1.1/default_composition_order for more information\n",
      "  warnings.warn(msg, UserWarning)\n"
     ]
    }
   ],
   "source": [
    "# *  config setup  * #\n",
    "CONFIG_PATH = '/usr/src/CV_For_Autonomous_Driving/config'\n",
    "\n",
    "with initialize_config_dir(config_dir=CONFIG_PATH):\n",
    "    cfg = compose(config_name='default_config.yaml')\n",
    "\n",
    "setup_config(cfg)\n"
   ]
  },
  {
   "cell_type": "code",
   "execution_count": 15,
   "metadata": {},
   "outputs": [
    {
     "name": "stderr",
     "output_type": "stream",
     "text": [
      "/opt/conda/lib/python3.7/site-packages/torchmetrics/utilities/prints.py:36: UserWarning: Torchmetrics v0.9 introduced a new argument class property called `full_state_update` that has\n",
      "                not been set for this class (IoUMetric). The property determines if `update` by\n",
      "                default needs access to the full metric state. If this is not the case, significant speedups can be\n",
      "                achieved and we recommend setting this to `False`.\n",
      "                We provide an checking function\n",
      "                `from torchmetrics.utilities import check_forward_full_state_property`\n",
      "                that can be used to check if the `full_state_update=True` (old and potential slower behaviour,\n",
      "                default for now) or if `full_state_update=False` can be used safely.\n",
      "                \n",
      "  warnings.warn(*args, **kwargs)\n"
     ]
    }
   ],
   "source": [
    "metrics = {k: v for k, v in instantiate(cfg.metrics).items()}\n",
    "metrics_collections = MetricCollection(metrics)"
   ]
  },
  {
   "cell_type": "code",
   "execution_count": 16,
   "metadata": {},
   "outputs": [
    {
     "name": "stdout",
     "output_type": "stream",
     "text": [
      "lane_iou IoUMetric()\n",
      "road_iou IoUMetric()\n",
      "vehicle_iou IoUMetric()\n"
     ]
    }
   ],
   "source": [
    "for k, v in metrics_collections.items():\n",
    "    print(k, v)"
   ]
  },
  {
   "cell_type": "code",
   "execution_count": 17,
   "metadata": {},
   "outputs": [
    {
     "name": "stdout",
     "output_type": "stream",
     "text": [
      "{'lane_iou': 0.0, 'road_iou': 0.0, 'vehicle_iou': 0.0}\n",
      "train/metrics/lane_iou 0.0\n",
      "train/metrics/road_iou 0.0\n",
      "train/metrics/vehicle_iou 0.0\n"
     ]
    }
   ],
   "source": [
    "\n",
    "prefix = 'train'\n",
    "\n",
    "# for _, metrics_collection in metrics_collections.items():\n",
    "#     metrics = metrics_collection.compute()\n",
    "#     for k, v in metrics.items():\n",
    "#         print(f'{prefix}/metrics/{k}', v)\n",
    "\n",
    "metrics = metrics_collections.compute()\n",
    "print(metrics)\n",
    "for key, value in metrics.items():\n",
    "    if isinstance(value, dict):\n",
    "        for subkey, val in value.items():\n",
    "            print(f'{prefix}/metrics/{key}{subkey}', val)\n",
    "    else:\n",
    "        print(f'{prefix}/metrics/{key}', value)"
   ]
  },
  {
   "cell_type": "code",
   "execution_count": null,
   "metadata": {},
   "outputs": [],
   "source": [
    "train/metrics/@0.40 0.0\n",
    "train/metrics/@0.50 0.0\n",
    "\n",
    "train/metrics/road_iou 0.0\n",
    "\n",
    "train/metrics/road_iou IoUMetric()\n",
    "train/metrics/lane_iou IoUMetric()\n",
    "train/metrics/vehicle_iou IoUMetric()"
   ]
  },
  {
   "cell_type": "code",
   "execution_count": 6,
   "metadata": {},
   "outputs": [],
   "source": [
    "from model_module.losses import MultipleLoss\n",
    "loss_func = MultipleLoss(instantiate(cfg.loss))"
   ]
  },
  {
   "cell_type": "code",
   "execution_count": 7,
   "metadata": {},
   "outputs": [
    {
     "name": "stdout",
     "output_type": "stream",
     "text": [
      "road BinarySegmentationLoss()\n",
      "lane BinarySegmentationLoss()\n",
      "vehicle BinarySegmentationLoss()\n",
      "center CenterLoss()\n"
     ]
    }
   ],
   "source": [
    "for k, v in loss_func.items():\n",
    "    print(k, v)"
   ]
  },
  {
   "cell_type": "code",
   "execution_count": null,
   "metadata": {},
   "outputs": [],
   "source": []
  }
 ],
 "metadata": {
  "kernelspec": {
   "display_name": "Python 3 (ipykernel)",
   "language": "python",
   "name": "python3"
  },
  "language_info": {
   "codemirror_mode": {
    "name": "ipython",
    "version": 3
   },
   "file_extension": ".py",
   "mimetype": "text/x-python",
   "name": "python",
   "nbconvert_exporter": "python",
   "pygments_lexer": "ipython3",
   "version": "3.7.10"
  },
  "orig_nbformat": 4
 },
 "nbformat": 4,
 "nbformat_minor": 2
}
