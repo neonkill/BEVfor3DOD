{
 "cells": [
  {
   "cell_type": "code",
   "execution_count": 1,
   "metadata": {},
   "outputs": [],
   "source": [
    "HYDRA_FULL_ERROR=1\n",
    "import hydra\n",
    "from typing import Optional\n",
    "from collections.abc import Callable\n",
    "from omegaconf import OmegaConf, DictConfig\n",
    "\n",
    "from hydra import initialize, initialize_config_module, initialize_config_dir, compose\n",
    "\n",
    "from hydra.utils import instantiate\n",
    "from torchmetrics import MetricCollection\n",
    "\n",
    "        \n",
    "def setup_config(cfg: DictConfig):\n",
    "    '''\n",
    "    # TODO default_config.yaml에서 save_dir: ${hydra:runtime.cwd}/logs/ resolve 할 때 error 생김\n",
    "    # TODO resolve 하기 전에 save_dir key remove 해주는 코드 추가로 필요함\n",
    "    '''\n",
    "    OmegaConf.set_struct(cfg, False)\n",
    "    OmegaConf.resolve(cfg)\n",
    "    OmegaConf.set_struct(cfg, True)"
   ]
  },
  {
   "cell_type": "code",
   "execution_count": 2,
   "metadata": {},
   "outputs": [
    {
     "name": "stderr",
     "output_type": "stream",
     "text": [
      "/opt/conda/lib/python3.7/site-packages/ipykernel_launcher.py:4: UserWarning: \n",
      "The version_base parameter is not specified.\n",
      "Please specify a compatability version level, or None.\n",
      "Will assume defaults for version 1.1\n",
      "  after removing the cwd from sys.path.\n"
     ]
    }
   ],
   "source": [
    "# *  config setup  * #\n",
    "CONFIG_PATH = '/usr/src/CV_For_Autonomous_Driving/config'\n",
    "\n",
    "with initialize_config_dir(config_dir=CONFIG_PATH):\n",
    "    cfg = compose(config_name='default_config_debug_sameD.yaml')\n",
    "\n",
    "setup_config(cfg)\n"
   ]
  },
  {
   "cell_type": "markdown",
   "metadata": {},
   "source": [
    "## Load base_1e-3 experiment\n",
    "### for debug metrics in 3 classes"
   ]
  },
  {
   "cell_type": "code",
   "execution_count": 3,
   "metadata": {},
   "outputs": [
    {
     "name": "stderr",
     "output_type": "stream",
     "text": [
      "Global seed set to 2022\n"
     ]
    },
    {
     "name": "stdout",
     "output_type": "stream",
     "text": [
      "Loaded pretrained weights for efficientnet-b4\n",
      "======\n",
      "Loading NuScenes tables for version v1.0-trainval...\n"
     ]
    },
    {
     "name": "stderr",
     "output_type": "stream",
     "text": [
      "/opt/conda/lib/python3.7/site-packages/torchmetrics/utilities/prints.py:36: UserWarning: Torchmetrics v0.9 introduced a new argument class property called `full_state_update` that has\n",
      "                not been set for this class (IoUMetric). The property determines if `update` by\n",
      "                default needs access to the full metric state. If this is not the case, significant speedups can be\n",
      "                achieved and we recommend setting this to `False`.\n",
      "                We provide an checking function\n",
      "                `from torchmetrics.utilities import check_forward_full_state_property`\n",
      "                that can be used to check if the `full_state_update=True` (old and potential slower behaviour,\n",
      "                default for now) or if `full_state_update=False` can be used safely.\n",
      "                \n",
      "  warnings.warn(*args, **kwargs)\n"
     ]
    },
    {
     "name": "stdout",
     "output_type": "stream",
     "text": [
      "23 category,\n",
      "8 attribute,\n",
      "4 visibility,\n",
      "64386 instance,\n",
      "12 sensor,\n",
      "10200 calibrated_sensor,\n",
      "2631083 ego_pose,\n",
      "68 log,\n",
      "850 scene,\n",
      "34149 sample,\n",
      "2631083 sample_data,\n",
      "1166187 sample_annotation,\n",
      "4 map,\n",
      "Done loading in 35.484 seconds.\n",
      "======\n",
      "Reverse indexing ...\n",
      "Done reverse indexing in 11.3 seconds.\n",
      "======\n",
      "**/0103_170521/checkpoints/*.ckpt\n"
     ]
    },
    {
     "name": "stderr",
     "output_type": "stream",
     "text": [
      "GPU available: True, used: True\n",
      "TPU available: False, using: 0 TPU cores\n",
      "IPU available: False, using: 0 IPUs\n",
      "Running in fast_dev_run mode: will run a full train, val, test and prediction loop using 1 batch(es).\n",
      "LOCAL_RANK: 0 - CUDA_VISIBLE_DEVICES: [0,1]\n"
     ]
    },
    {
     "name": "stdout",
     "output_type": "stream",
     "text": [
      "loaded pretrained network! Start Evaluation!\n",
      "6019\n"
     ]
    },
    {
     "data": {
      "application/vnd.jupyter.widget-view+json": {
       "model_id": "8121de12f6af47a88fac3b06edeadf98",
       "version_major": 2,
       "version_minor": 0
      },
      "text/plain": [
       "HBox(children=(HTML(value='Testing'), FloatProgress(value=1.0, bar_style='info', layout=Layout(flex='2'), max=…"
      ]
     },
     "metadata": {},
     "output_type": "display_data"
    },
    {
     "name": "stdout",
     "output_type": "stream",
     "text": [
      "test/metrics/lane_iou ('lane_iou', 0.016313213855028152)\n",
      "test/metrics/road_iou ('road_iou', 0.6495959162712097)\n",
      "test/metrics/vehicle_iou ('vehicle_iou', 0.0)\n",
      "--------------------------------------------------------------------------------\n",
      "DATALOADER:0 TEST RESULTS\n",
      "{'test/loss/center': 0.0005716345040127635,\n",
      " 'test/loss/lane': 0.010303634218871593,\n",
      " 'test/loss/road': 0.03855156898498535,\n",
      " 'test/loss/vehicle': 0.011755327694118023,\n",
      " 'test/total_loss': 0.021333962678909302}\n",
      "--------------------------------------------------------------------------------\n",
      "\n"
     ]
    },
    {
     "data": {
      "text/plain": [
       "[{'test/total_loss': 0.021333962678909302,\n",
       "  'test/loss/road': 0.03855156898498535,\n",
       "  'test/loss/lane': 0.010303634218871593,\n",
       "  'test/loss/vehicle': 0.011755327694118023,\n",
       "  'test/loss/center': 0.0005716345040127635}]"
      ]
     },
     "execution_count": 3,
     "metadata": {},
     "output_type": "execute_result"
    }
   ],
   "source": [
    "import logging\n",
    "from pathlib import Path\n",
    "\n",
    "import torch\n",
    "import hydra\n",
    "import pytorch_lightning as pl\n",
    "\n",
    "from scripts.utils import setup_config, setup_experiment, remove_prefix\n",
    "\n",
    "log = logging.getLogger(__name__)\n",
    "\n",
    "def resume_training(experiment):\n",
    "    save_dir = Path(experiment.save_dir).resolve()\n",
    "    checkpoints = list(save_dir.glob(f'**/{experiment.uuid}/checkpoints/*.ckpt'))\n",
    "\n",
    "    print(f'**/{experiment.uuid}/checkpoints/*.ckpt')\n",
    "    log.info(f'Searching {save_dir}.')\n",
    "\n",
    "    if not checkpoints:\n",
    "        return None\n",
    "\n",
    "    log.info(f'Found {checkpoints[-1]}.')\n",
    "\n",
    "    return checkpoints[-1]\n",
    "\n",
    "\n",
    "pl.seed_everything(cfg.experiment.seed, workers=True)\n",
    "Path(cfg.experiment.save_dir).mkdir(exist_ok=True, parents=False)\n",
    "\n",
    "# Logger\n",
    "logger = pl.loggers.WandbLogger(project=cfg.experiment.project,\n",
    "                                save_dir=cfg.experiment.save_dir,\n",
    "                                id=cfg.experiment.uuid)\n",
    "\n",
    "# Create and load model/data\n",
    "model_module, data_module = setup_experiment(cfg)\n",
    "eval_loader = data_module.eval_dataloader()\n",
    "\n",
    "# load model\n",
    "ckpt_path = resume_training(cfg.experiment)\n",
    "ckpt = torch.load(ckpt_path)\n",
    "state_dict = remove_prefix(ckpt['state_dict'], 'fullmodel')\n",
    "\n",
    "model_module.fullmodel.load_state_dict(state_dict)\n",
    "model_module.to('cuda')\n",
    "\n",
    "print('loaded pretrained network! Start Evaluation!')\n",
    "print(len(eval_loader))\n",
    "\n",
    "# evaluation (pl version)\n",
    "#! only 5 Batch \n",
    "trainer = pl.Trainer(logger=logger, accelerator='gpu', gpus=[0],fast_dev_run=True)\n",
    "trainer.test(model=model_module,\n",
    "            dataloaders=eval_loader)\n"
   ]
  },
  {
   "cell_type": "code",
   "execution_count": 4,
   "metadata": {},
   "outputs": [
    {
     "name": "stderr",
     "output_type": "stream",
     "text": [
      "/opt/conda/lib/python3.7/site-packages/torchmetrics/utilities/prints.py:36: UserWarning: Torchmetrics v0.9 introduced a new argument class property called `full_state_update` that has\n",
      "                not been set for this class (IoUMetric). The property determines if `update` by\n",
      "                default needs access to the full metric state. If this is not the case, significant speedups can be\n",
      "                achieved and we recommend setting this to `False`.\n",
      "                We provide an checking function\n",
      "                `from torchmetrics.utilities import check_forward_full_state_property`\n",
      "                that can be used to check if the `full_state_update=True` (old and potential slower behaviour,\n",
      "                default for now) or if `full_state_update=False` can be used safely.\n",
      "                \n",
      "  warnings.warn(*args, **kwargs)\n"
     ]
    }
   ],
   "source": [
    "metrics = {k: v for k, v in instantiate(cfg.metrics).items()}\n",
    "metrics_collections = MetricCollection(metrics)"
   ]
  },
  {
   "cell_type": "code",
   "execution_count": 5,
   "metadata": {},
   "outputs": [
    {
     "name": "stdout",
     "output_type": "stream",
     "text": [
      "lane_iou [[2, 3]]\n",
      "road_iou [[0, 1]]\n",
      "vehicle_iou [[4, 5, 6, 7, 8, 10, 11]]\n"
     ]
    }
   ],
   "source": [
    "for k, v in metrics_collections.items():\n",
    "    print(k, v.label_indices)"
   ]
  },
  {
   "cell_type": "code",
   "execution_count": 6,
   "metadata": {},
   "outputs": [
    {
     "name": "stdout",
     "output_type": "stream",
     "text": [
      "{'lane_iou': ('lane_iou', 0.0), 'road_iou': ('road_iou', 0.0), 'vehicle_iou': ('vehicle_iou', 0.0)}\n",
      "train/metrics/lane_iou ('lane_iou', 0.0)\n",
      "train/metrics/road_iou ('road_iou', 0.0)\n",
      "train/metrics/vehicle_iou ('vehicle_iou', 0.0)\n"
     ]
    },
    {
     "name": "stderr",
     "output_type": "stream",
     "text": [
      "/opt/conda/lib/python3.7/site-packages/torchmetrics/utilities/prints.py:36: UserWarning: The ``compute`` method of metric IoUMetric was called before the ``update`` method which may lead to errors, as metric states have not yet been updated.\n",
      "  warnings.warn(*args, **kwargs)\n"
     ]
    }
   ],
   "source": [
    "\n",
    "prefix = 'train'\n",
    "\n",
    "# for _, metrics_collection in metrics_collections.items():\n",
    "#     metrics = metrics_collection.compute()\n",
    "#     for k, v in metrics.items():\n",
    "#         print(f'{prefix}/metrics/{k}', v)\n",
    "\n",
    "metrics = metrics_collections.compute()\n",
    "print(metrics)\n",
    "for key, value in metrics.items():\n",
    "    if isinstance(value, dict):\n",
    "        for subkey, val in value.items():\n",
    "            print(f'{prefix}/metrics/{key}{subkey}', val)\n",
    "    else:\n",
    "        print(f'{prefix}/metrics/{key}', value)"
   ]
  },
  {
   "cell_type": "code",
   "execution_count": null,
   "metadata": {},
   "outputs": [],
   "source": [
    "train/metrics/@0.40 0.0\n",
    "train/metrics/@0.50 0.0\n",
    "\n",
    "train/metrics/road_iou 0.0\n",
    "\n",
    "train/metrics/road_iou IoUMetric()\n",
    "train/metrics/lane_iou IoUMetric()\n",
    "train/metrics/vehicle_iou IoUMetric()"
   ]
  },
  {
   "cell_type": "code",
   "execution_count": 6,
   "metadata": {},
   "outputs": [],
   "source": [
    "from model_module.losses import MultipleLoss\n",
    "loss_func = MultipleLoss(instantiate(cfg.loss))"
   ]
  },
  {
   "cell_type": "code",
   "execution_count": 7,
   "metadata": {},
   "outputs": [
    {
     "name": "stdout",
     "output_type": "stream",
     "text": [
      "road BinarySegmentationLoss()\n",
      "lane BinarySegmentationLoss()\n",
      "vehicle BinarySegmentationLoss()\n",
      "center CenterLoss()\n"
     ]
    }
   ],
   "source": [
    "for k, v in loss_func.items():\n",
    "    print(k, v)"
   ]
  },
  {
   "cell_type": "code",
   "execution_count": 8,
   "metadata": {},
   "outputs": [
    {
     "name": "stdout",
     "output_type": "stream",
     "text": [
      "metrics {'lane_iou': ('lane_iou', 1.0), 'road_iou': ('road_iou', 0.0), 'vehicle_iou': ('vehicle_iou', 2.0)}\n",
      "metrics group: {0: ['road_iou'], 1: ['lane_iou'], 2: ['vehicle_iou']}\n",
      "metrics_no_g {'lane_iou': ('lane_iou', 1.0), 'road_iou': ('road_iou', 0.0), 'vehicle_iou': ('vehicle_iou', 2.0)}\n",
      "metrics_no_g group: {0: ['lane_iou'], 1: ['road_iou'], 2: ['vehicle_iou']}\n",
      "\n",
      "update\n",
      "\n",
      "metrics {'lane_iou': ('lane_iou', 1.0), 'road_iou': ('road_iou', 0.0), 'vehicle_iou': ('vehicle_iou', 2.0)}\n",
      "metrics group: {0: ['road_iou'], 1: ['lane_iou'], 2: ['vehicle_iou']}\n",
      "metrics_no_g {'lane_iou': ('lane_iou', 1.0), 'road_iou': ('road_iou', 0.0), 'vehicle_iou': ('vehicle_iou', 2.0)}\n",
      "metrics_no_g group: {0: ['lane_iou', 'road_iou', 'vehicle_iou']}\n"
     ]
    }
   ],
   "source": [
    "import torch\n",
    "metrics_no_g = MetricCollection({k: v for k, v in instantiate(cfg.metrics).items()})\n",
    "metrics = MetricCollection({k: v for k, v in instantiate(cfg.metrics).items()},compute_groups=[['road_iou'], ['lane_iou'], ['vehicle_iou']])\n",
    "\n",
    "print('metrics',metrics.compute())\n",
    "print('metrics group:',metrics.compute_groups)\n",
    "print('metrics_no_g',metrics_no_g.compute())\n",
    "print('metrics_no_g group:',metrics_no_g.compute_groups)\n",
    "print()\n",
    "print('update')\n",
    "print()\n",
    "metrics.update()\n",
    "metrics_no_g.update()\n",
    "print('metrics',metrics.compute())\n",
    "print('metrics group:',metrics.compute_groups)\n",
    "print('metrics_no_g',metrics_no_g.compute())\n",
    "print('metrics_no_g group:',metrics_no_g.compute_groups)"
   ]
  }
 ],
 "metadata": {
  "kernelspec": {
   "display_name": "Python 3 (ipykernel)",
   "language": "python",
   "name": "python3"
  },
  "language_info": {
   "codemirror_mode": {
    "name": "ipython",
    "version": 3
   },
   "file_extension": ".py",
   "mimetype": "text/x-python",
   "name": "python",
   "nbconvert_exporter": "python",
   "pygments_lexer": "ipython3",
   "version": "3.7.10"
  },
  "orig_nbformat": 4
 },
 "nbformat": 4,
 "nbformat_minor": 2
}
